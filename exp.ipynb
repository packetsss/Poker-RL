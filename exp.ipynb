{
 "cells": [
  {
   "cell_type": "code",
   "execution_count": 1,
   "id": "7745e4c2",
   "metadata": {},
   "outputs": [],
   "source": [
    "import random\n",
    "from poker_env import PokerEnv\n",
    "from texasholdem.game.game import TexasHoldEm\n",
    "from texasholdem.game.action_type import ActionType\n",
    "from agent import CrammerAgent, RandomAgent\n",
    "import numpy as np"
   ]
  },
  {
   "cell_type": "code",
   "execution_count": 2,
   "id": "61315ccb",
   "metadata": {},
   "outputs": [],
   "source": [
    "winnings = {0: 0, 1: 0, 2: 0, 3: 0, 4: 0, 5: 0}\n",
    "for _ in range(100):\n",
    "    game = TexasHoldEm(500, 5, 2, 6)\n",
    "\n",
    "    action_to_string = {\n",
    "        0: ActionType.CALL,\n",
    "        1: ActionType.RAISE,\n",
    "        2: ActionType.CHECK,\n",
    "        3: ActionType.FOLD,\n",
    "    }\n",
    "    crammer_agent = CrammerAgent(game, action_to_string)\n",
    "    random_agent = RandomAgent(game)\n",
    "\n",
    "    game.start_hand()\n",
    "    while game.is_hand_running():\n",
    "\n",
    "        lines = []\n",
    "        for i in range(len(game.pots)):\n",
    "            lines.append(\n",
    "                f\"Pot {i}: {game.pots[i].get_total_amount()} Board: {game.board}\"\n",
    "            )\n",
    "\n",
    "        if game.current_player == 0:\n",
    "            bet, val = random_agent.calculate_action()\n",
    "        else:\n",
    "            bet, val = crammer_agent.calculate_action()\n",
    "        assert game.validate_move(\n",
    "            game.current_player, bet, val\n",
    "        ), \"Move should've been valid!\"\n",
    "\n",
    "        game.take_action(bet, val)\n",
    "\n",
    "    all_player_chips = []\n",
    "    for player in game.players:\n",
    "        all_player_chips.append(player.chips)\n",
    "\n",
    "    player_won = np.argmax(all_player_chips)\n",
    "\n",
    "    winnings[player_won] += 1\n"
   ]
  },
  {
   "cell_type": "code",
   "execution_count": 3,
   "id": "946e1632",
   "metadata": {},
   "outputs": [
    {
     "data": {
      "text/plain": [
       "{0: 0, 1: 13, 2: 23, 3: 17, 4: 23, 5: 24}"
      ]
     },
     "execution_count": 3,
     "metadata": {},
     "output_type": "execute_result"
    }
   ],
   "source": [
    "winnings"
   ]
  },
  {
   "cell_type": "code",
   "execution_count": 20,
   "id": "48bd0c8d",
   "metadata": {},
   "outputs": [
    {
     "data": {
      "text/plain": [
       "dict_keys(['buyin', 'big_blind', 'small_blind', 'max_players', 'players', 'btn_loc', 'bb_loc', 'sb_loc', 'current_player', 'pots', '_deck', 'board', 'hands', 'num_hands', 'hand_phase', 'game_state', '_handstate_handler', 'hand_history', '_action', '_hand_gen'])"
      ]
     },
     "execution_count": 20,
     "metadata": {},
     "output_type": "execute_result"
    }
   ],
   "source": [
    "game.__dict__.keys()"
   ]
  },
  {
   "cell_type": "code",
   "execution_count": 21,
   "id": "60b0eef5",
   "metadata": {},
   "outputs": [
    {
     "data": {
      "text/plain": [
       "History(prehand=PrehandHistory(btn_loc=5, big_blind=5, small_blind=2, player_chips={0: 500, 1: 500, 2: 500, 3: 500, 4: 500, 5: 500}, player_cards={0: [Card(\"3s\"), Card(\"Kh\")], 1: [Card(\"7c\"), Card(\"Tc\")], 2: [Card(\"Qc\"), Card(\"5d\")], 3: [Card(\"7s\"), Card(\"4s\")], 4: [Card(\"3h\"), Card(\"Qh\")], 5: [Card(\"4h\"), Card(\"2d\")]}), preflop=BettingRoundHistory(new_cards=[], actions=[PlayerAction(player_id=2, action_type=<ActionType.CALL: 3>, value=None), PlayerAction(player_id=3, action_type=<ActionType.CALL: 3>, value=None), PlayerAction(player_id=4, action_type=<ActionType.RAISE: 1>, value=26), PlayerAction(player_id=5, action_type=<ActionType.CALL: 3>, value=None), PlayerAction(player_id=0, action_type=<ActionType.CALL: 3>, value=None), PlayerAction(player_id=1, action_type=<ActionType.CALL: 3>, value=None), PlayerAction(player_id=2, action_type=<ActionType.CALL: 3>, value=None), PlayerAction(player_id=3, action_type=<ActionType.CALL: 3>, value=None)]), settle=SettleHistory(new_cards=[], winners={3: (1428, 992)}), flop=BettingRoundHistory(new_cards=[Card(\"9s\"), Card(\"5c\"), Card(\"5s\")], actions=[PlayerAction(player_id=0, action_type=<ActionType.RAISE: 1>, value=12), PlayerAction(player_id=1, action_type=<ActionType.RAISE: 1>, value=12), PlayerAction(player_id=2, action_type=<ActionType.RAISE: 1>, value=34), PlayerAction(player_id=3, action_type=<ActionType.RAISE: 1>, value=37), PlayerAction(player_id=4, action_type=<ActionType.RAISE: 1>, value=72), PlayerAction(player_id=5, action_type=<ActionType.RAISE: 1>, value=72), PlayerAction(player_id=0, action_type=<ActionType.CALL: 3>, value=None), PlayerAction(player_id=1, action_type=<ActionType.RAISE: 1>, value=60), PlayerAction(player_id=2, action_type=<ActionType.RAISE: 1>, value=122), PlayerAction(player_id=3, action_type=<ActionType.RAISE: 1>, value=85), PlayerAction(player_id=4, action_type=<ActionType.RAISE: 1>, value=50), PlayerAction(player_id=5, action_type=<ActionType.RAISE: 1>, value=50), PlayerAction(player_id=0, action_type=<ActionType.CALL: 3>, value=None), PlayerAction(player_id=1, action_type=<ActionType.RAISE: 1>, value=62), PlayerAction(player_id=2, action_type=<ActionType.RAISE: 1>, value=44), PlayerAction(player_id=3, action_type=<ActionType.RAISE: 1>, value=75), PlayerAction(player_id=4, action_type=<ActionType.RAISE: 1>, value=72), PlayerAction(player_id=5, action_type=<ActionType.RAISE: 1>, value=75), PlayerAction(player_id=0, action_type=<ActionType.FOLD: 5>, value=None), PlayerAction(player_id=1, action_type=<ActionType.RAISE: 1>, value=60), PlayerAction(player_id=2, action_type=<ActionType.RAISE: 1>, value=78), PlayerAction(player_id=3, action_type=<ActionType.RAISE: 1>, value=52), PlayerAction(player_id=4, action_type=<ActionType.RAISE: 1>, value=50), PlayerAction(player_id=5, action_type=<ActionType.RAISE: 1>, value=47), PlayerAction(player_id=1, action_type=<ActionType.RAISE: 1>, value=62), PlayerAction(player_id=2, action_type=<ActionType.RAISE: 1>, value=44), PlayerAction(player_id=3, action_type=<ActionType.RAISE: 1>, value=70), PlayerAction(player_id=4, action_type=<ActionType.RAISE: 1>, value=72), PlayerAction(player_id=5, action_type=<ActionType.RAISE: 1>, value=75), PlayerAction(player_id=1, action_type=<ActionType.RAISE: 1>, value=60), PlayerAction(player_id=2, action_type=<ActionType.RAISE: 1>, value=78), PlayerAction(player_id=3, action_type=<ActionType.RAISE: 1>, value=52), PlayerAction(player_id=4, action_type=<ActionType.RAISE: 1>, value=50), PlayerAction(player_id=5, action_type=<ActionType.RAISE: 1>, value=47), PlayerAction(player_id=1, action_type=<ActionType.RAISE: 1>, value=85), PlayerAction(player_id=2, action_type=<ActionType.RAISE: 1>, value=44), PlayerAction(player_id=3, action_type=<ActionType.RAISE: 1>, value=70), PlayerAction(player_id=4, action_type=<ActionType.RAISE: 1>, value=117), PlayerAction(player_id=5, action_type=<ActionType.RAISE: 1>, value=144), PlayerAction(player_id=1, action_type=<ActionType.RAISE: 1>, value=59), PlayerAction(player_id=2, action_type=<ActionType.RAISE: 1>, value=100), PlayerAction(player_id=3, action_type=<ActionType.RAISE: 1>, value=74), PlayerAction(player_id=4, action_type=<ActionType.RAISE: 1>, value=27), PlayerAction(player_id=5, action_type=<ActionType.RAISE: 1>, value=113), PlayerAction(player_id=1, action_type=<ActionType.RAISE: 1>, value=85), PlayerAction(player_id=2, action_type=<ActionType.RAISE: 1>, value=44), PlayerAction(player_id=3, action_type=<ActionType.RAISE: 1>, value=70), PlayerAction(player_id=4, action_type=<ActionType.RAISE: 1>, value=117), PlayerAction(player_id=5, action_type=<ActionType.RAISE: 1>, value=74), PlayerAction(player_id=1, action_type=<ActionType.RAISE: 1>, value=59), PlayerAction(player_id=2, action_type=<ActionType.RAISE: 1>, value=123), PlayerAction(player_id=3, action_type=<ActionType.RAISE: 1>, value=74), PlayerAction(player_id=4, action_type=<ActionType.RAISE: 1>, value=54), PlayerAction(player_id=5, action_type=<ActionType.RAISE: 1>, value=83), PlayerAction(player_id=1, action_type=<ActionType.RAISE: 1>, value=85), PlayerAction(player_id=2, action_type=<ActionType.CHECK: 4>, value=None), PlayerAction(player_id=3, action_type=<ActionType.RAISE: 1>, value=70), PlayerAction(player_id=4, action_type=<ActionType.RAISE: 1>, value=90), PlayerAction(player_id=5, action_type=<ActionType.RAISE: 1>, value=61), PlayerAction(player_id=1, action_type=<ActionType.RAISE: 1>, value=75), PlayerAction(player_id=2, action_type=<ActionType.RAISE: 1>, value=90), PlayerAction(player_id=3, action_type=<ActionType.RAISE: 1>, value=74), PlayerAction(player_id=4, action_type=<ActionType.RAISE: 1>, value=92), PlayerAction(player_id=5, action_type=<ActionType.RAISE: 1>, value=83), PlayerAction(player_id=1, action_type=<ActionType.RAISE: 1>, value=69), PlayerAction(player_id=2, action_type=<ActionType.RAISE: 1>, value=54), PlayerAction(player_id=3, action_type=<ActionType.RAISE: 1>, value=70), PlayerAction(player_id=4, action_type=<ActionType.RAISE: 1>, value=80), PlayerAction(player_id=5, action_type=<ActionType.RAISE: 1>, value=61), PlayerAction(player_id=1, action_type=<ActionType.RAISE: 1>, value=75), PlayerAction(player_id=2, action_type=<ActionType.RAISE: 1>, value=96), PlayerAction(player_id=3, action_type=<ActionType.RAISE: 1>, value=86), PlayerAction(player_id=4, action_type=<ActionType.RAISE: 1>, value=85), PlayerAction(player_id=5, action_type=<ActionType.RAISE: 1>, value=118), PlayerAction(player_id=1, action_type=<ActionType.RAISE: 1>, value=69), PlayerAction(player_id=2, action_type=<ActionType.RAISE: 1>, value=73), PlayerAction(player_id=3, action_type=<ActionType.RAISE: 1>, value=58), PlayerAction(player_id=4, action_type=<ActionType.RAISE: 1>, value=70), PlayerAction(player_id=5, action_type=<ActionType.RAISE: 1>, value=26), PlayerAction(player_id=1, action_type=<ActionType.RAISE: 1>, value=75), PlayerAction(player_id=2, action_type=<ActionType.RAISE: 1>, value=71), PlayerAction(player_id=3, action_type=<ActionType.RAISE: 1>, value=99), PlayerAction(player_id=4, action_type=<ActionType.RAISE: 1>, value=92), PlayerAction(player_id=5, action_type=<ActionType.RAISE: 1>, value=118), PlayerAction(player_id=1, action_type=<ActionType.RAISE: 1>, value=69), PlayerAction(player_id=2, action_type=<ActionType.RAISE: 1>, value=73), PlayerAction(player_id=3, action_type=<ActionType.RAISE: 1>, value=45), PlayerAction(player_id=4, action_type=<ActionType.RAISE: 1>, value=52), PlayerAction(player_id=5, action_type=<ActionType.RAISE: 1>, value=26), PlayerAction(player_id=1, action_type=<ActionType.RAISE: 1>, value=75), PlayerAction(player_id=2, action_type=<ActionType.RAISE: 1>, value=96), PlayerAction(player_id=3, action_type=<ActionType.RAISE: 1>, value=99), PlayerAction(player_id=4, action_type=<ActionType.RAISE: 1>, value=92), PlayerAction(player_id=5, action_type=<ActionType.RAISE: 1>, value=118), PlayerAction(player_id=1, action_type=<ActionType.RAISE: 1>, value=69), PlayerAction(player_id=2, action_type=<ActionType.CHECK: 4>, value=None), PlayerAction(player_id=3, action_type=<ActionType.RAISE: 1>, value=45), PlayerAction(player_id=4, action_type=<ActionType.RAISE: 1>, value=52), PlayerAction(player_id=5, action_type=<ActionType.RAISE: 1>, value=54), PlayerAction(player_id=1, action_type=<ActionType.RAISE: 1>, value=75), PlayerAction(player_id=2, action_type=<ActionType.RAISE: 1>, value=48), PlayerAction(player_id=3, action_type=<ActionType.RAISE: 1>, value=99), PlayerAction(player_id=4, action_type=<ActionType.RAISE: 1>, value=92), PlayerAction(player_id=5, action_type=<ActionType.RAISE: 1>, value=90), PlayerAction(player_id=1, action_type=<ActionType.RAISE: 1>, value=69), PlayerAction(player_id=2, action_type=<ActionType.RAISE: 1>, value=96), PlayerAction(player_id=3, action_type=<ActionType.RAISE: 1>, value=52), PlayerAction(player_id=4, action_type=<ActionType.RAISE: 1>, value=52), PlayerAction(player_id=5, action_type=<ActionType.RAISE: 1>, value=54), PlayerAction(player_id=1, action_type=<ActionType.RAISE: 1>, value=75), PlayerAction(player_id=2, action_type=<ActionType.FOLD: 5>, value=None), PlayerAction(player_id=3, action_type=<ActionType.RAISE: 1>, value=92), PlayerAction(player_id=4, action_type=<ActionType.RAISE: 1>, value=92), PlayerAction(player_id=5, action_type=<ActionType.RAISE: 1>, value=90), PlayerAction(player_id=1, action_type=<ActionType.RAISE: 1>, value=69), PlayerAction(player_id=3, action_type=<ActionType.RAISE: 1>, value=52), PlayerAction(player_id=4, action_type=<ActionType.RAISE: 1>, value=52), PlayerAction(player_id=5, action_type=<ActionType.RAISE: 1>, value=54), PlayerAction(player_id=1, action_type=<ActionType.RAISE: 1>, value=75), PlayerAction(player_id=3, action_type=<ActionType.RAISE: 1>, value=92), PlayerAction(player_id=4, action_type=<ActionType.RAISE: 1>, value=92), PlayerAction(player_id=5, action_type=<ActionType.RAISE: 1>, value=105), PlayerAction(player_id=1, action_type=<ActionType.RAISE: 1>, value=69), PlayerAction(player_id=3, action_type=<ActionType.RAISE: 1>, value=52), PlayerAction(player_id=4, action_type=<ActionType.CHECK: 4>, value=None), PlayerAction(player_id=5, action_type=<ActionType.RAISE: 1>, value=71), PlayerAction(player_id=1, action_type=<ActionType.RAISE: 1>, value=119), PlayerAction(player_id=3, action_type=<ActionType.RAISE: 1>, value=92), PlayerAction(player_id=4, action_type=<ActionType.RAISE: 1>, value=79), PlayerAction(player_id=5, action_type=<ActionType.RAISE: 1>, value=73), PlayerAction(player_id=1, action_type=<ActionType.RAISE: 1>, value=63), PlayerAction(player_id=3, action_type=<ActionType.RAISE: 1>, value=52), PlayerAction(player_id=4, action_type=<ActionType.RAISE: 1>, value=65), PlayerAction(player_id=5, action_type=<ActionType.RAISE: 1>, value=71), PlayerAction(player_id=1, action_type=<ActionType.RAISE: 1>, value=81), PlayerAction(player_id=3, action_type=<ActionType.RAISE: 1>, value=92), PlayerAction(player_id=4, action_type=<ActionType.CHECK: 4>, value=None), PlayerAction(player_id=5, action_type=<ActionType.RAISE: 1>, value=73), PlayerAction(player_id=1, action_type=<ActionType.RAISE: 1>, value=63), PlayerAction(player_id=3, action_type=<ActionType.RAISE: 1>, value=79), PlayerAction(player_id=4, action_type=<ActionType.CHECK: 4>, value=None), PlayerAction(player_id=5, action_type=<ActionType.RAISE: 1>, value=112), PlayerAction(player_id=1, action_type=<ActionType.RAISE: 1>, value=81), PlayerAction(player_id=3, action_type=<ActionType.RAISE: 1>, value=68), PlayerAction(player_id=4, action_type=<ActionType.RAISE: 1>, value=79), PlayerAction(player_id=5, action_type=<ActionType.RAISE: 1>, value=48), PlayerAction(player_id=1, action_type=<ActionType.RAISE: 1>, value=63), PlayerAction(player_id=3, action_type=<ActionType.RAISE: 1>, value=76), PlayerAction(player_id=4, action_type=<ActionType.RAISE: 1>, value=65), PlayerAction(player_id=5, action_type=<ActionType.RAISE: 1>, value=111), PlayerAction(player_id=1, action_type=<ActionType.RAISE: 1>, value=81), PlayerAction(player_id=3, action_type=<ActionType.RAISE: 1>, value=68), PlayerAction(player_id=4, action_type=<ActionType.RAISE: 1>, value=79), PlayerAction(player_id=5, action_type=<ActionType.RAISE: 1>, value=33), PlayerAction(player_id=1, action_type=<ActionType.RAISE: 1>, value=63), PlayerAction(player_id=3, action_type=<ActionType.RAISE: 1>, value=223), PlayerAction(player_id=4, action_type=<ActionType.RAISE: 1>, value=144), PlayerAction(player_id=5, action_type=<ActionType.RAISE: 1>, value=190), PlayerAction(player_id=1, action_type=<ActionType.RAISE: 1>, value=160), PlayerAction(player_id=3, action_type=<ActionType.RAISE: 1>, value=33), PlayerAction(player_id=4, action_type=<ActionType.RAISE: 1>, value=79), PlayerAction(player_id=5, action_type=<ActionType.RAISE: 1>, value=131), PlayerAction(player_id=1, action_type=<ActionType.RAISE: 1>, value=78), PlayerAction(player_id=3, action_type=<ActionType.RAISE: 1>, value=190), PlayerAction(player_id=4, action_type=<ActionType.CHECK: 4>, value=None), PlayerAction(player_id=5, action_type=<ActionType.RAISE: 1>, value=110), PlayerAction(player_id=1, action_type=<ActionType.RAISE: 1>, value=145), PlayerAction(player_id=3, action_type=<ActionType.RAISE: 1>, value=33), PlayerAction(player_id=4, action_type=<ActionType.CHECK: 4>, value=None), PlayerAction(player_id=5, action_type=<ActionType.RAISE: 1>, value=113), PlayerAction(player_id=1, action_type=<ActionType.RAISE: 1>, value=78), PlayerAction(player_id=3, action_type=<ActionType.RAISE: 1>, value=190), PlayerAction(player_id=4, action_type=<ActionType.RAISE: 1>, value=144), PlayerAction(player_id=5, action_type=<ActionType.RAISE: 1>, value=110), PlayerAction(player_id=1, action_type=<ActionType.RAISE: 1>, value=145), PlayerAction(player_id=3, action_type=<ActionType.RAISE: 1>, value=50), PlayerAction(player_id=4, action_type=<ActionType.RAISE: 1>, value=145), PlayerAction(player_id=5, action_type=<ActionType.RAISE: 1>, value=113), PlayerAction(player_id=1, action_type=<ActionType.RAISE: 1>, value=78), PlayerAction(player_id=3, action_type=<ActionType.RAISE: 1>, value=173), PlayerAction(player_id=4, action_type=<ActionType.RAISE: 1>, value=78), PlayerAction(player_id=5, action_type=<ActionType.RAISE: 1>, value=110), PlayerAction(player_id=1, action_type=<ActionType.RAISE: 1>, value=145), PlayerAction(player_id=3, action_type=<ActionType.RAISE: 1>, value=50), PlayerAction(player_id=4, action_type=<ActionType.CHECK: 4>, value=None), PlayerAction(player_id=5, action_type=<ActionType.RAISE: 1>, value=113), PlayerAction(player_id=1, action_type=<ActionType.RAISE: 1>, value=98), PlayerAction(player_id=3, action_type=<ActionType.RAISE: 1>, value=173), PlayerAction(player_id=4, action_type=<ActionType.RAISE: 1>, value=145), PlayerAction(player_id=5, action_type=<ActionType.RAISE: 1>, value=110), PlayerAction(player_id=1, action_type=<ActionType.RAISE: 1>, value=125), PlayerAction(player_id=3, action_type=<ActionType.RAISE: 1>, value=50), PlayerAction(player_id=4, action_type=<ActionType.CHECK: 4>, value=None), PlayerAction(player_id=5, action_type=<ActionType.RAISE: 1>, value=113), PlayerAction(player_id=1, action_type=<ActionType.RAISE: 1>, value=98), PlayerAction(player_id=3, action_type=<ActionType.RAISE: 1>, value=173), PlayerAction(player_id=4, action_type=<ActionType.RAISE: 1>, value=101), PlayerAction(player_id=5, action_type=<ActionType.RAISE: 1>, value=110), PlayerAction(player_id=1, action_type=<ActionType.RAISE: 1>, value=125), PlayerAction(player_id=3, action_type=<ActionType.RAISE: 1>, value=50), PlayerAction(player_id=4, action_type=<ActionType.CHECK: 4>, value=None), PlayerAction(player_id=5, action_type=<ActionType.RAISE: 1>, value=113), PlayerAction(player_id=1, action_type=<ActionType.RAISE: 1>, value=98), PlayerAction(player_id=3, action_type=<ActionType.RAISE: 1>, value=173), PlayerAction(player_id=4, action_type=<ActionType.RAISE: 1>, value=122), PlayerAction(player_id=5, action_type=<ActionType.RAISE: 1>, value=110), PlayerAction(player_id=1, action_type=<ActionType.RAISE: 1>, value=125), PlayerAction(player_id=3, action_type=<ActionType.RAISE: 1>, value=50), PlayerAction(player_id=4, action_type=<ActionType.RAISE: 1>, value=101), PlayerAction(player_id=5, action_type=<ActionType.RAISE: 1>, value=113), PlayerAction(player_id=1, action_type=<ActionType.RAISE: 1>, value=98), PlayerAction(player_id=3, action_type=<ActionType.RAISE: 1>, value=173), PlayerAction(player_id=4, action_type=<ActionType.RAISE: 1>, value=122), PlayerAction(player_id=5, action_type=<ActionType.RAISE: 1>, value=110), PlayerAction(player_id=1, action_type=<ActionType.RAISE: 1>, value=125), PlayerAction(player_id=3, action_type=<ActionType.RAISE: 1>, value=50), PlayerAction(player_id=4, action_type=<ActionType.RAISE: 1>, value=101), PlayerAction(player_id=5, action_type=<ActionType.RAISE: 1>, value=113), PlayerAction(player_id=1, action_type=<ActionType.RAISE: 1>, value=98), PlayerAction(player_id=3, action_type=<ActionType.RAISE: 1>, value=173), PlayerAction(player_id=4, action_type=<ActionType.RAISE: 1>, value=122), PlayerAction(player_id=5, action_type=<ActionType.RAISE: 1>, value=110), PlayerAction(player_id=1, action_type=<ActionType.RAISE: 1>, value=125), PlayerAction(player_id=3, action_type=<ActionType.RAISE: 1>, value=123), PlayerAction(player_id=4, action_type=<ActionType.RAISE: 1>, value=101), PlayerAction(player_id=5, action_type=<ActionType.RAISE: 1>, value=113), PlayerAction(player_id=1, action_type=<ActionType.RAISE: 1>, value=98), PlayerAction(player_id=3, action_type=<ActionType.RAISE: 1>, value=127), PlayerAction(player_id=4, action_type=<ActionType.RAISE: 1>, value=122), PlayerAction(player_id=5, action_type=<ActionType.RAISE: 1>, value=110), PlayerAction(player_id=1, action_type=<ActionType.RAISE: 1>, value=125), PlayerAction(player_id=3, action_type=<ActionType.RAISE: 1>, value=96), PlayerAction(player_id=4, action_type=<ActionType.RAISE: 1>, value=101), PlayerAction(player_id=5, action_type=<ActionType.RAISE: 1>, value=113), PlayerAction(player_id=1, action_type=<ActionType.RAISE: 1>, value=98), PlayerAction(player_id=3, action_type=<ActionType.RAISE: 1>, value=127), PlayerAction(player_id=4, action_type=<ActionType.RAISE: 1>, value=122), PlayerAction(player_id=5, action_type=<ActionType.RAISE: 1>, value=110), PlayerAction(player_id=1, action_type=<ActionType.RAISE: 1>, value=125), PlayerAction(player_id=3, action_type=<ActionType.RAISE: 1>, value=96), PlayerAction(player_id=4, action_type=<ActionType.CHECK: 4>, value=None), PlayerAction(player_id=5, action_type=<ActionType.RAISE: 1>, value=113), PlayerAction(player_id=1, action_type=<ActionType.RAISE: 1>, value=98), PlayerAction(player_id=3, action_type=<ActionType.RAISE: 1>, value=127), PlayerAction(player_id=4, action_type=<ActionType.CHECK: 4>, value=None), PlayerAction(player_id=5, action_type=<ActionType.RAISE: 1>, value=110), PlayerAction(player_id=1, action_type=<ActionType.RAISE: 1>, value=125), PlayerAction(player_id=3, action_type=<ActionType.RAISE: 1>, value=96), PlayerAction(player_id=4, action_type=<ActionType.CHECK: 4>, value=None), PlayerAction(player_id=5, action_type=<ActionType.RAISE: 1>, value=113), PlayerAction(player_id=1, action_type=<ActionType.RAISE: 1>, value=101), PlayerAction(player_id=3, action_type=<ActionType.RAISE: 1>, value=127), PlayerAction(player_id=4, action_type=<ActionType.RAISE: 1>, value=101), PlayerAction(player_id=5, action_type=<ActionType.RAISE: 1>, value=110), PlayerAction(player_id=1, action_type=<ActionType.RAISE: 1>, value=122), PlayerAction(player_id=3, action_type=<ActionType.RAISE: 1>, value=96), PlayerAction(player_id=4, action_type=<ActionType.RAISE: 1>, value=122), PlayerAction(player_id=5, action_type=<ActionType.RAISE: 1>, value=113), PlayerAction(player_id=1, action_type=<ActionType.RAISE: 1>, value=101), PlayerAction(player_id=3, action_type=<ActionType.RAISE: 1>, value=127), PlayerAction(player_id=4, action_type=<ActionType.RAISE: 1>, value=101), PlayerAction(player_id=5, action_type=<ActionType.RAISE: 1>, value=110), PlayerAction(player_id=1, action_type=<ActionType.RAISE: 1>, value=122), PlayerAction(player_id=3, action_type=<ActionType.RAISE: 1>, value=96), PlayerAction(player_id=4, action_type=<ActionType.RAISE: 1>, value=122), PlayerAction(player_id=5, action_type=<ActionType.RAISE: 1>, value=113), PlayerAction(player_id=1, action_type=<ActionType.RAISE: 1>, value=101), PlayerAction(player_id=3, action_type=<ActionType.RAISE: 1>, value=127), PlayerAction(player_id=4, action_type=<ActionType.RAISE: 1>, value=101), PlayerAction(player_id=5, action_type=<ActionType.RAISE: 1>, value=110), PlayerAction(player_id=1, action_type=<ActionType.RAISE: 1>, value=122), PlayerAction(player_id=3, action_type=<ActionType.RAISE: 1>, value=96), PlayerAction(player_id=4, action_type=<ActionType.CHECK: 4>, value=None), PlayerAction(player_id=5, action_type=<ActionType.RAISE: 1>, value=113), PlayerAction(player_id=1, action_type=<ActionType.RAISE: 1>, value=101), PlayerAction(player_id=3, action_type=<ActionType.RAISE: 1>, value=127), PlayerAction(player_id=4, action_type=<ActionType.RAISE: 1>, value=143), PlayerAction(player_id=5, action_type=<ActionType.RAISE: 1>, value=110), PlayerAction(player_id=1, action_type=<ActionType.RAISE: 1>, value=122), PlayerAction(player_id=3, action_type=<ActionType.RAISE: 1>, value=96), PlayerAction(player_id=4, action_type=<ActionType.RAISE: 1>, value=80), PlayerAction(player_id=5, action_type=<ActionType.RAISE: 1>, value=113), PlayerAction(player_id=1, action_type=<ActionType.RAISE: 1>, value=101), PlayerAction(player_id=3, action_type=<ActionType.RAISE: 1>, value=127), PlayerAction(player_id=4, action_type=<ActionType.RAISE: 1>, value=143), PlayerAction(player_id=5, action_type=<ActionType.RAISE: 1>, value=110), PlayerAction(player_id=1, action_type=<ActionType.RAISE: 1>, value=122), PlayerAction(player_id=3, action_type=<ActionType.RAISE: 1>, value=96), PlayerAction(player_id=4, action_type=<ActionType.RAISE: 1>, value=80), PlayerAction(player_id=5, action_type=<ActionType.RAISE: 1>, value=113), PlayerAction(player_id=1, action_type=<ActionType.RAISE: 1>, value=101), PlayerAction(player_id=3, action_type=<ActionType.RAISE: 1>, value=127), PlayerAction(player_id=4, action_type=<ActionType.FOLD: 5>, value=None), PlayerAction(player_id=5, action_type=<ActionType.RAISE: 1>, value=116), PlayerAction(player_id=1, action_type=<ActionType.RAISE: 1>, value=122), PlayerAction(player_id=3, action_type=<ActionType.RAISE: 1>, value=96), PlayerAction(player_id=5, action_type=<ActionType.RAISE: 1>, value=107), PlayerAction(player_id=1, action_type=<ActionType.RAISE: 1>, value=101), PlayerAction(player_id=3, action_type=<ActionType.RAISE: 1>, value=127), PlayerAction(player_id=5, action_type=<ActionType.RAISE: 1>, value=116), PlayerAction(player_id=1, action_type=<ActionType.RAISE: 1>, value=122), PlayerAction(player_id=3, action_type=<ActionType.RAISE: 1>, value=96), PlayerAction(player_id=5, action_type=<ActionType.RAISE: 1>, value=107), PlayerAction(player_id=1, action_type=<ActionType.RAISE: 1>, value=101), PlayerAction(player_id=3, action_type=<ActionType.RAISE: 1>, value=127), PlayerAction(player_id=5, action_type=<ActionType.RAISE: 1>, value=116), PlayerAction(player_id=1, action_type=<ActionType.CHECK: 4>, value=None), PlayerAction(player_id=3, action_type=<ActionType.RAISE: 1>, value=96), PlayerAction(player_id=5, action_type=<ActionType.RAISE: 1>, value=107), PlayerAction(player_id=1, action_type=<ActionType.CHECK: 4>, value=None), PlayerAction(player_id=3, action_type=<ActionType.RAISE: 1>, value=127), PlayerAction(player_id=5, action_type=<ActionType.RAISE: 1>, value=116), PlayerAction(player_id=1, action_type=<ActionType.RAISE: 1>, value=122), PlayerAction(player_id=3, action_type=<ActionType.RAISE: 1>, value=96), PlayerAction(player_id=5, action_type=<ActionType.RAISE: 1>, value=107), PlayerAction(player_id=1, action_type=<ActionType.CHECK: 4>, value=None), PlayerAction(player_id=3, action_type=<ActionType.RAISE: 1>, value=127), PlayerAction(player_id=5, action_type=<ActionType.RAISE: 1>, value=116), PlayerAction(player_id=1, action_type=<ActionType.RAISE: 1>, value=101), PlayerAction(player_id=3, action_type=<ActionType.RAISE: 1>, value=96), PlayerAction(player_id=5, action_type=<ActionType.RAISE: 1>, value=147), PlayerAction(player_id=1, action_type=<ActionType.RAISE: 1>, value=122), PlayerAction(player_id=3, action_type=<ActionType.RAISE: 1>, value=127), PlayerAction(player_id=5, action_type=<ActionType.RAISE: 1>, value=76), PlayerAction(player_id=1, action_type=<ActionType.RAISE: 1>, value=101), PlayerAction(player_id=3, action_type=<ActionType.RAISE: 1>, value=96), PlayerAction(player_id=5, action_type=<ActionType.RAISE: 1>, value=147), PlayerAction(player_id=1, action_type=<ActionType.RAISE: 1>, value=122), PlayerAction(player_id=3, action_type=<ActionType.RAISE: 1>, value=127), PlayerAction(player_id=5, action_type=<ActionType.RAISE: 1>, value=76), PlayerAction(player_id=1, action_type=<ActionType.RAISE: 1>, value=101), PlayerAction(player_id=3, action_type=<ActionType.RAISE: 1>, value=96), PlayerAction(player_id=5, action_type=<ActionType.RAISE: 1>, value=147), PlayerAction(player_id=1, action_type=<ActionType.RAISE: 1>, value=122), PlayerAction(player_id=3, action_type=<ActionType.RAISE: 1>, value=127), PlayerAction(player_id=5, action_type=<ActionType.RAISE: 1>, value=76), PlayerAction(player_id=1, action_type=<ActionType.RAISE: 1>, value=101), PlayerAction(player_id=3, action_type=<ActionType.RAISE: 1>, value=96), PlayerAction(player_id=5, action_type=<ActionType.RAISE: 1>, value=147), PlayerAction(player_id=1, action_type=<ActionType.CHECK: 4>, value=None), PlayerAction(player_id=3, action_type=<ActionType.RAISE: 1>, value=127), PlayerAction(player_id=5, action_type=<ActionType.RAISE: 1>, value=76), PlayerAction(player_id=1, action_type=<ActionType.RAISE: 1>, value=122), PlayerAction(player_id=3, action_type=<ActionType.RAISE: 1>, value=96), PlayerAction(player_id=5, action_type=<ActionType.RAISE: 1>, value=147), PlayerAction(player_id=1, action_type=<ActionType.RAISE: 1>, value=101), PlayerAction(player_id=3, action_type=<ActionType.RAISE: 1>, value=127), PlayerAction(player_id=5, action_type=<ActionType.RAISE: 1>, value=76), PlayerAction(player_id=1, action_type=<ActionType.CHECK: 4>, value=None), PlayerAction(player_id=3, action_type=<ActionType.RAISE: 1>, value=96), PlayerAction(player_id=5, action_type=<ActionType.RAISE: 1>, value=147), PlayerAction(player_id=1, action_type=<ActionType.RAISE: 1>, value=122), PlayerAction(player_id=3, action_type=<ActionType.RAISE: 1>, value=127), PlayerAction(player_id=5, action_type=<ActionType.RAISE: 1>, value=76), PlayerAction(player_id=1, action_type=<ActionType.FOLD: 5>, value=None), PlayerAction(player_id=3, action_type=<ActionType.RAISE: 1>, value=96), PlayerAction(player_id=5, action_type=<ActionType.RAISE: 1>, value=147), PlayerAction(player_id=3, action_type=<ActionType.CHECK: 4>, value=None)]), turn=BettingRoundHistory(new_cards=[Card(\"Js\")], actions=[PlayerAction(player_id=3, action_type=<ActionType.CHECK: 4>, value=None), PlayerAction(player_id=5, action_type=<ActionType.RAISE: 1>, value=50), PlayerAction(player_id=3, action_type=<ActionType.RAISE: 1>, value=52), PlayerAction(player_id=5, action_type=<ActionType.RAISE: 1>, value=49), PlayerAction(player_id=3, action_type=<ActionType.CHECK: 4>, value=None)]), river=BettingRoundHistory(new_cards=[Card(\"Qd\")], actions=[PlayerAction(player_id=3, action_type=<ActionType.RAISE: 1>, value=11), PlayerAction(player_id=5, action_type=<ActionType.RAISE: 1>, value=36), PlayerAction(player_id=3, action_type=<ActionType.CALL: 3>, value=None)]))"
      ]
     },
     "execution_count": 21,
     "metadata": {},
     "output_type": "execute_result"
    }
   ],
   "source": [
    "game.hand_history"
   ]
  },
  {
   "cell_type": "code",
   "execution_count": null,
   "id": "7bffa87f",
   "metadata": {},
   "outputs": [],
   "source": []
  }
 ],
 "metadata": {
  "interpreter": {
   "hash": "9b0d7eed1ded67b0150c23823527b532e9094492b70d0870852ac52c7b4fd025"
  },
  "kernelspec": {
   "display_name": "Python 3.8.8 ('base')",
   "language": "python",
   "name": "python3"
  },
  "language_info": {
   "codemirror_mode": {
    "name": "ipython",
    "version": 3
   },
   "file_extension": ".py",
   "mimetype": "text/x-python",
   "name": "python",
   "nbconvert_exporter": "python",
   "pygments_lexer": "ipython3",
   "version": "3.8.8"
  }
 },
 "nbformat": 4,
 "nbformat_minor": 5
}
