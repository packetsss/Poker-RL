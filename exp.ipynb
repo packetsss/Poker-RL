{
 "cells": [
  {
   "cell_type": "code",
   "execution_count": 5,
   "id": "7745e4c2",
   "metadata": {},
   "outputs": [],
   "source": [
    "import random\n",
    "from poker_env import PokerEnv\n",
    "from texasholdem.game.game import TexasHoldEm\n",
    "from texasholdem.game.action_type import ActionType\n",
    "from agent import CrammerAgent, RandomAgent\n",
    "import numpy as np"
   ]
  },
  {
   "cell_type": "code",
   "execution_count": null,
   "id": "61315ccb",
   "metadata": {},
   "outputs": [],
   "source": [
    "winnings = {0: 0,\n",
    "            1: 0,\n",
    "            2: 0,\n",
    "            3: 0,\n",
    "            4: 0,\n",
    "            5: 0}\n",
    "for _ in range(1000):\n",
    "    game = TexasHoldEm(500, 5, 2, 6)\n",
    "\n",
    "    action_to_string = {0: ActionType.CALL, 1: ActionType.RAISE, \n",
    "                        2: ActionType.CHECK, 3: ActionType.FOLD}\n",
    "    crammer_agent = CrammerAgent(game, action_to_string)\n",
    "    random_agent = RandomAgent(game)\n",
    "\n",
    "    game.start_hand()\n",
    "    while game.is_hand_running():\n",
    "\n",
    "        lines = []\n",
    "        for i in range(len(game.pots)):\n",
    "            lines.append(\n",
    "                f\"Pot {i}: {game.pots[i].get_total_amount()} Board: {game.board}\"\n",
    "            )\n",
    "\n",
    "        if game.current_player == 0:\n",
    "            bet, val = crammer_agent.calculate_action()\n",
    "        else:\n",
    "            bet, val = random_agent.calculate_action()\n",
    "        assert game.validate_move(game.current_player, bet, val), \"Move should've been valid!\"\n",
    "        \n",
    "        game.take_action(bet, val)\n",
    "\n",
    "    all_player_chips = []\n",
    "    for player in game.players:\n",
    "        all_player_chips.append(player.chips)\n",
    "\n",
    "    player_won = np.argmax(all_player_chips)\n",
    "\n",
    "    winnings[player_won] += 1"
   ]
  },
  {
   "cell_type": "code",
   "execution_count": 15,
   "id": "946e1632",
   "metadata": {},
   "outputs": [
    {
     "data": {
      "text/plain": [
       "{0: 485, 1: 154, 2: 122, 3: 96, 4: 74, 5: 69}"
      ]
     },
     "execution_count": 15,
     "metadata": {},
     "output_type": "execute_result"
    }
   ],
   "source": [
    "winnings"
   ]
  },
  {
   "cell_type": "code",
   "execution_count": null,
   "id": "48bd0c8d",
   "metadata": {},
   "outputs": [],
   "source": []
  }
 ],
 "metadata": {
  "interpreter": {
   "hash": "9b0d7eed1ded67b0150c23823527b532e9094492b70d0870852ac52c7b4fd025"
  },
  "kernelspec": {
   "display_name": "Python 3.8.8 ('base')",
   "language": "python",
   "name": "python3"
  },
  "language_info": {
   "codemirror_mode": {
    "name": "ipython",
    "version": 3
   },
   "file_extension": ".py",
   "mimetype": "text/x-python",
   "name": "python",
   "nbconvert_exporter": "python",
   "pygments_lexer": "ipython3",
   "version": "3.8.8"
  }
 },
 "nbformat": 4,
 "nbformat_minor": 5
}
